{
 "cells": [
  {
   "cell_type": "markdown",
   "metadata": {},
   "source": [
    "# Pathogen Informatics Training\n",
    "\n",
    "\n",
    "Background on [Jupyter](http://jupyter.org/) notebooks to be filled in ...\n",
    "\n",
    "\n",
    "Courses:\n",
    "\n",
    "* [Unix](Unix/index.ipynb)\n"
   ]
  }
 ],
 "metadata": {
  "kernelspec": {
   "display_name": "Bash",
   "language": "bash",
   "name": "bash"
  },
  "language_info": {
   "codemirror_mode": "shell",
   "file_extension": ".sh",
   "mimetype": "text/x-sh",
   "name": "bash"
  }
 },
 "nbformat": 4,
 "nbformat_minor": 0
}
