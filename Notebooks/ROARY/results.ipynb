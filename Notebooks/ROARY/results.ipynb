{
 "cells": [
  {
   "cell_type": "markdown",
   "metadata": {},
   "source": [
    "# Exploring the results\n",
    "## Output files\n",
    "### summary_statistics.txt\n",
    "### gene_presence_absence.csv\n",
    "### gene_presence_absence.Rtab\n",
    "### pan_genome_reference.fa\n",
    "### *.Rtab\n",
    "### accessory_binary_genes.fa.newick\n",
    "### accessory_graph.dot\n",
    "### core_accessory_graph.dot\n",
    "### clustered_proteins\n",
    "### core_gene_alignment.aln\n",
    "## query_pan_genome\n",
    "## roary_plots.py\n",
    "## Draw a tree form the core gene alignment\n",
    "FastTree –nt –gtr core_gene_alignment.aln > my_tree.newick"
   ]
  }
 ],
 "metadata": {
  "kernelspec": {
   "display_name": "Bash",
   "language": "bash",
   "name": "bash"
  },
  "language_info": {
   "codemirror_mode": "shell",
   "file_extension": ".sh",
   "mimetype": "text/x-sh",
   "name": "bash"
  }
 },
 "nbformat": 4,
 "nbformat_minor": 2
}
