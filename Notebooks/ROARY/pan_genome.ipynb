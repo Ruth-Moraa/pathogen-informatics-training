{
 "cells": [
  {
   "cell_type": "markdown",
   "metadata": {},
   "source": [
    "# The Pan Genome \n",
    "\n",
    "The pan genome for a prokaryote population is the complete set of genes that it contains. This includes genes present in all of the genomes, and genes that are only present in some, or even only in one of the genomes. The subset of genes present in all the genomes (or more commonly in 99% of them) is called the **core genome**. These are often highly conserved genes with important functions, for instance housekeeping genes. The subset of genes that are not present in all, but in two or more of the genomes, is called the **accessory genome**. This often conatains genes that have been transferred between baterial strains, for example genes linked to virulence or drug resistance.\n",
    "\n",
    "[Insert image describing pan/core/accessory genomes]\n",
    "\n",
    "As you can imagine, the pan, core and acessory genomes can provide important insight into the genetic structure of prokaryotic genomes. This can give us a better understanding of key processes like evolution and selection. "
   ]
  }
 ],
 "metadata": {
  "kernelspec": {
   "display_name": "Bash",
   "language": "bash",
   "name": "bash"
  },
  "language_info": {
   "codemirror_mode": "shell",
   "file_extension": ".sh",
   "mimetype": "text/x-sh",
   "name": "bash"
  }
 },
 "nbformat": 4,
 "nbformat_minor": 2
}
