{
 "cells": [
  {
   "cell_type": "markdown",
   "metadata": {},
   "source": [
    "# Performing QC on your data\n",
    "The results you can get from any analysis will only ever be as good as the data you put into it. To avoid spending countless hours performing analysis without receiving any satisfactory results, or worse yet erronious results, it is important to QC your data before starting. There are a number of checks you can make to ensure your dealing with high quality data, and we will decribe some of them here. \n",
    "\n",
    "## Contamination\n",
    "In order to get meaningful results from Roary, the samples should be closely related. If you have lots of contamination in your data, for instance if one of your samples is from a different species, you will get very few genes in your core genomes, if any at all.  \n",
    "\n",
    "It is always a good idea to check that your samples are the species you expect them to be. You can use tools such as [Kraken](https://www.ebi.ac.uk/research/enright/software/kraken) for this. Roary comes with a qc option that will run Kraken for you and generate a report that will list the top species of all the samples. For this to work you need to have Kraken installed.\n",
    "\n",
    "The following command can be used to generate a qc report with Kraken:  \n",
    "\n",
    "    roary –qc –k /path/to/kraken/db *.gff\n",
    "\n",
    "The report will look something like this:\n",
    "\n",
    "![qc-report](img/qc_report.png)\n",
    "\n",
    "The size of the assemblies can also provide a useful hint. If one of the assemblies is much smaller or bigger than the others there is a chance that this is not of the same species as the rest.\n",
    "\n",
    "## Coverage\n",
    "To get decent assemblies out of your raw data, you need a genome coverage of ~30x. For a quick estimate of your coverage, you can divide the number of bases in your raw data with the number of bases in the reference genome of the species. For the samples used in this tutorial, the coverage is listed below. The genome of  _S. pneumoniae_ is approximately 2,200,000 bases.\n",
    "\n",
    "|Sample|Nr of Bases|Coverage|\n",
    "|------|-----------|--------|\n",
    "|sample1|262705400|120x|\n",
    "|sample2|218026200|99x|\n",
    "|sample3|173524000|79x|\n",
    "\n",
    "## Fragmented assemblies\n",
    "If the assemblies are very fragmented (thousands of contigs), the genes may be too fragmented to be useful.  \n",
    "   \n",
    "    \n",
    "These are just some of the most basic things that you can do to make sure your data looks alright. There is much more that can be done but we won't go into any more detail about it in this tutorial. "
   ]
  },
  {
   "cell_type": "markdown",
   "metadata": {},
   "source": [
    "Now you should be ready to run Roary to generate a pangenome, so head to the next section, [Running Roary](run_roary.ipynb).  \n",
    "You can also revisit the [previous section](prepare_data.ipynb) or return to the [index page](index.ipynb)"
   ]
  }
 ],
 "metadata": {
  "kernelspec": {
   "display_name": "Bash",
   "language": "bash",
   "name": "bash"
  },
  "language_info": {
   "codemirror_mode": "shell",
   "file_extension": ".sh",
   "mimetype": "text/x-sh",
   "name": "bash"
  }
 },
 "nbformat": 4,
 "nbformat_minor": 2
}
