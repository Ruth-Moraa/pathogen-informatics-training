{
 "cells": [
  {
   "cell_type": "markdown",
   "metadata": {},
   "source": [
    "# Interpreting the results"
   ]
  },
  {
   "cell_type": "markdown",
   "metadata": {},
   "source": [
    "Now lets have a look at the results. Move into the data directory again."
   ]
  },
  {
   "cell_type": "code",
   "execution_count": null,
   "metadata": {
    "collapsed": true
   },
   "outputs": [],
   "source": [
    "cd data/run_seroba"
   ]
  },
  {
   "cell_type": "markdown",
   "metadata": {},
   "source": [
    "Look at the file called `pred.tsv` in your results directoy, `sample1`."
   ]
  },
  {
   "cell_type": "code",
   "execution_count": null,
   "metadata": {
    "collapsed": true
   },
   "outputs": [],
   "source": [
    "cat sample1/pred.tsv"
   ]
  },
  {
   "cell_type": "markdown",
   "metadata": {},
   "source": [
    "You can see three columns. The first one contains the prefix you chose for the run. The second one contains the predicted serotype and the third column may contain a comment regarding contamination. So, in this case we can see that sample1 was predicted to be of serotype 8 and at least 10% of the reads are called as a different snp than the other reads i.e. there is contamination."
   ]
  },
  {
   "cell_type": "markdown",
   "metadata": {},
   "source": [
    "Now, lets try again with the rest of the samples. All we need to do is to run the runSerotyping option, but this time we will do it in a for-loop so that we do not have to run the command manually for each sample. \n",
    "\n",
    "The command we are going to use will run `seroba runSerotyping` on all fastq files in the working directory, so to avoid serytyping sample1 again, first move the fastq files for this sample out from the working directory:"
   ]
  },
  {
   "cell_type": "code",
   "execution_count": null,
   "metadata": {
    "collapsed": true
   },
   "outputs": [],
   "source": [
    "mv sample1_* ../"
   ]
  },
  {
   "cell_type": "markdown",
   "metadata": {},
   "source": [
    "Run the command below. It will take around 10 minutes."
   ]
  },
  {
   "cell_type": "code",
   "execution_count": null,
   "metadata": {
    "collapsed": true
   },
   "outputs": [],
   "source": [
    "for file in *_1.fq.gz; do seroba runSerotyping ../database/ $file \"${file//_1.fq.gz/_2.fq.gz}\" \"${file//_1.fq.gz/}\"; done"
   ]
  },
  {
   "cell_type": "markdown",
   "metadata": {},
   "source": [
    "Now that we have performed multiple runs, we might want to create a summary of the results. To do this, move up one level to the data directory."
   ]
  },
  {
   "cell_type": "code",
   "execution_count": null,
   "metadata": {
    "collapsed": true
   },
   "outputs": [],
   "source": [
    "cd .."
   ]
  },
  {
   "cell_type": "markdown",
   "metadata": {},
   "source": [
    "Now run the **summary** option:\n",
    "\n",
    "    `seroba summary results_dir`\n",
    "\n",
    "Where the results_dir in this case is `run_seroba`."
   ]
  },
  {
   "cell_type": "code",
   "execution_count": null,
   "metadata": {
    "collapsed": true
   },
   "outputs": [],
   "source": [
    "seroba summary run_seroba"
   ]
  },
  {
   "cell_type": "markdown",
   "metadata": {},
   "source": [
    "Have a look at the resulting tsv file."
   ]
  },
  {
   "cell_type": "code",
   "execution_count": null,
   "metadata": {
    "collapsed": true
   },
   "outputs": [],
   "source": [
    "cat summary.tsv"
   ]
  },
  {
   "cell_type": "markdown",
   "metadata": {},
   "source": [
    "As you can see, you now have a summary of all the runs in one file. One sample that might require some explanation is sample3 which was serotyped as 6E(6B). Serogroup 6 is a bit different from the other serogroups. The serotype of a sample can be 6E on the genotypic level, and 6A or 6B on the phenotypic level. I this case, sample3 has the 6E genotype and the 6B phenotype. "
   ]
  },
  {
   "cell_type": "markdown",
   "metadata": {},
   "source": [
    "Now follows some questions for you to go over what you have learnt in this tutorial one more time! You can find the answers at the bottom of the page.\n",
    "\n",
    "# Questions\n",
    "\n",
    "1. Your data requires you to use a kmer size of X. You have already downloaded the database to a directory called database_X/. What command would you run to create a database for kmc and ariba with kmer size X?\n",
    "\n",
    "2. What is the predicted serotype of sample7? \n",
    "\n",
    "3. How would you interpret the comment for sample7?\n"
   ]
  },
  {
   "cell_type": "markdown",
   "metadata": {},
   "source": [
    "1. `seroba createDBs database_X/ X`\n",
    "2. 22A\n",
    "3. At least 10% of the reads were determined to have a different snp that the rest, i.e. there is contamination."
   ]
  }
 ],
 "metadata": {
  "kernelspec": {
   "display_name": "Bash",
   "language": "bash",
   "name": "bash"
  },
  "language_info": {
   "codemirror_mode": "shell",
   "file_extension": ".sh",
   "mimetype": "text/x-sh",
   "name": "bash"
  }
 },
 "nbformat": 4,
 "nbformat_minor": 2
}
