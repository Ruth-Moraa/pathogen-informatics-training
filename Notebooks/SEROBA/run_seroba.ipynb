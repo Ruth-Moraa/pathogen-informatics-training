{
 "cells": [
  {
   "cell_type": "markdown",
   "metadata": {},
   "source": [
    "# Running SeroBA"
   ]
  },
  {
   "cell_type": "markdown",
   "metadata": {},
   "source": [
    "We are now ready to run SeroBA to perform the serotyping. Move into the data directory where we keep the reads. In this case we have called it 'run_seroba' and it's in the directory called 'data'."
   ]
  },
  {
   "cell_type": "code",
   "execution_count": null,
   "metadata": {
    "collapsed": true
   },
   "outputs": [],
   "source": [
    "cd data/run_seroba"
   ]
  },
  {
   "cell_type": "markdown",
   "metadata": {},
   "source": [
    "Now run SeroBA using the 'runSerotyping' command:\n",
    "\n",
    "    `seroba runSerotyping database_dir forward_read reverse_read prefix`\n",
    "\n",
    "Where the options are:\n",
    "\n",
    "    database_dir   path to the database directory\n",
    "    forward_read   forward read file\n",
    "    reverse_read   reverse read file\n",
    "    prefix         a unique prefix"
   ]
  },
  {
   "cell_type": "code",
   "execution_count": null,
   "metadata": {
    "collapsed": true
   },
   "outputs": [],
   "source": [
    "seroba runSerotyping ../databases/ 8_1.fq.gz 8_2.fq.gz sample1"
   ]
  },
  {
   "cell_type": "markdown",
   "metadata": {},
   "source": [
    "Lets have a look at the results in the next section."
   ]
  }
 ],
 "metadata": {
  "kernelspec": {
   "display_name": "Bash",
   "language": "bash",
   "name": "bash"
  },
  "language_info": {
   "codemirror_mode": "shell",
   "file_extension": ".sh",
   "mimetype": "text/x-sh",
   "name": "bash"
  }
 },
 "nbformat": 4,
 "nbformat_minor": 2
}
