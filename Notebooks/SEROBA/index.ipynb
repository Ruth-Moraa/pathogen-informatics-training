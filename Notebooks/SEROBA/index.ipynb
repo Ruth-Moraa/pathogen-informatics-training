{
 "cells": [
  {
   "cell_type": "markdown",
   "metadata": {},
   "source": [
    "# SEROBA tutorial\n",
    "\n",
    "This is a tutorial for using SeroBA for serotyping of *Streptococcus pneumoniae* samples. It assumes that you have SeroBA and all its dependancies installed on your computer.\n",
    "\n",
    "The tutorial includes the following parts:\n",
    "\n",
    "1. [What is serotyping?](serotyping.ipynb)\n",
    "2. [Preparation of databases before running SeroBA](db_setup.ipynb)\n",
    "3. [Running SeroBA](run_seroba.ipynb)\n",
    "4. [Interpreting the results of SeroBA](seroba_results.ipynb)\n",
    "\n",
    "After compleating this tutorial you should be able to:\n",
    "\n",
    "* Understand serotyping, why it is important and what it can be used for\n",
    "* Download and prepare the *S. pneumoniae* databases from PneumoCAT for use with SeroBA\n",
    "* Run SeroBA on several samples to predict their serotype\n",
    "* Summarise the SeroBA results for several samples\n",
    "* Interpret the detailed output of SeroBA\n",
    "\n",
    "\n"
   ]
  }
 ],
 "metadata": {
  "kernelspec": {
   "display_name": "Bash",
   "language": "bash",
   "name": "bash"
  },
  "language_info": {
   "codemirror_mode": "shell",
   "file_extension": ".sh",
   "mimetype": "text/x-sh",
   "name": "bash"
  }
 },
 "nbformat": 4,
 "nbformat_minor": 2
}
