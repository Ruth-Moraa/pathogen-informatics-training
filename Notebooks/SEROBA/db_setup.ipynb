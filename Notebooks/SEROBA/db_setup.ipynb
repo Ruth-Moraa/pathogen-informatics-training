{
 "cells": [
  {
   "cell_type": "markdown",
   "metadata": {},
   "source": [
    "# Preparation of databases before running SeroBA"
   ]
  },
  {
   "cell_type": "markdown",
   "metadata": {},
   "source": [
    "In order to use SeroBA for serotyping we must first download and prepare the necessary databases. Start by moving into the data directory:"
   ]
  },
  {
   "cell_type": "code",
   "execution_count": null,
   "metadata": {
    "collapsed": true
   },
   "outputs": [],
   "source": [
    "cd data"
   ]
  },
  {
   "cell_type": "markdown",
   "metadata": {},
   "source": [
    "Now download the database from the GitHub repository:"
   ]
  },
  {
   "cell_type": "code",
   "execution_count": null,
   "metadata": {
    "collapsed": true
   },
   "outputs": [],
   "source": [
    "svn checkout \"https://github.com/sanger-pathogens/seroba/trunk/database\""
   ]
  },
  {
   "cell_type": "markdown",
   "metadata": {},
   "source": [
    "**NOTE** if you are running a version of SeroBA older than v.0.1.3 the database is not packaged with the program and you will have to download it using the below command instead:\n",
    "\n",
    "    `seroba getPneumocat database_dir`"
   ]
  },
  {
   "cell_type": "markdown",
   "metadata": {},
   "source": [
    "To create a database for kmc and ariba run **createDBs**:\n",
    "\n",
    "    `seroba createDBs database/ kmer_size`\n",
    "    \n",
    "Where the options are:\n",
    "\n",
    "    database       The database directory which you just downloaded\n",
    "    kmer_size      The kmer size you want to use for kmc. Recommended = 71\n"
   ]
  },
  {
   "cell_type": "code",
   "execution_count": null,
   "metadata": {
    "collapsed": true
   },
   "outputs": [],
   "source": [
    "seroba createDBs database/ 71"
   ]
  },
  {
   "cell_type": "markdown",
   "metadata": {},
   "source": [
    "If you are working with SeroBA on the Sanger farm, the database with k-mer size 71 is already available centrally. This means you do not need to create the database for using SeroBA on the Sanger farm. \n",
    "\n",
    "However, for the sake of this tutorial, the above steps need to be compleated before you can continue with the tutorial.\n",
    "\n",
    "In the [next section](run_seroba.ipynb) we are going to run SeroBA to determine the serotype of one sample."
   ]
  }
 ],
 "metadata": {
  "kernelspec": {
   "display_name": "Bash",
   "language": "bash",
   "name": "bash"
  },
  "language_info": {
   "codemirror_mode": "shell",
   "file_extension": ".sh",
   "mimetype": "text/x-sh",
   "name": "bash"
  }
 },
 "nbformat": 4,
 "nbformat_minor": 2
}
