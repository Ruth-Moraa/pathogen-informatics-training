{
 "cells": [
  {
   "cell_type": "markdown",
   "metadata": {},
   "source": [
    "# Preparation of databases before running SeroBA"
   ]
  },
  {
   "cell_type": "markdown",
   "metadata": {},
   "source": [
    "In order to use SeroBA for serotyping we must first download and prepare the necessary databases. Start by moving into the data directory:"
   ]
  },
  {
   "cell_type": "code",
   "execution_count": null,
   "metadata": {
    "collapsed": true
   },
   "outputs": [],
   "source": [
    "cd data"
   ]
  },
  {
   "cell_type": "markdown",
   "metadata": {},
   "source": [
    "Now we can use **getPneumocat** to pull down PneumoCat and build a tsv formatted meta data file:\n",
    "\n",
    "    `seroba getPneumocat database_dir`\n",
    "\n",
    "As you see, we need to specify a directory for the output. Let's call it **databases**."
   ]
  },
  {
   "cell_type": "code",
   "execution_count": null,
   "metadata": {
    "collapsed": true
   },
   "outputs": [],
   "source": [
    "seroba getPneumocat databases"
   ]
  },
  {
   "cell_type": "markdown",
   "metadata": {},
   "source": [
    "To create a database for for kmc and ariba we now run **createDBs**:\n",
    "\n",
    "    `seroba createDBs database_dir/ kmer_size`\n",
    "    \n",
    "Where the options are:\n",
    "\n",
    "    database_dir   The same directory as in getPneumocat\n",
    "    kmer_size      The kmer size you want to use for kmc. Recommended = 71\n"
   ]
  },
  {
   "cell_type": "code",
   "execution_count": null,
   "metadata": {
    "collapsed": true
   },
   "outputs": [],
   "source": [
    "seroba createDBs databases/ 71"
   ]
  },
  {
   "cell_type": "markdown",
   "metadata": {},
   "source": [
    "If you are working with SeroBA on the Sanger farm, the database with k-mer size 71 is already available as the enironmental variable $SEROBA_DB.\n",
    "\n",
    "In the [next section](run_seroba.ipynb) we are going to run SeroBA to determine the serotype of one sample."
   ]
  }
 ],
 "metadata": {
  "kernelspec": {
   "display_name": "Bash",
   "language": "bash",
   "name": "bash"
  },
  "language_info": {
   "codemirror_mode": "shell",
   "file_extension": ".sh",
   "mimetype": "text/x-sh",
   "name": "bash"
  }
 },
 "nbformat": 4,
 "nbformat_minor": 2
}
