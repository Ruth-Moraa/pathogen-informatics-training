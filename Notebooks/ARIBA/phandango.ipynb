{
 "cells": [
  {
   "cell_type": "markdown",
   "metadata": {},
   "source": [
    "# Viewing ARIBA results in Phandango\n",
    "\n",
    "This section describes how to use [Phandango](http://phandango.net/) to view a summary of ARIBA results from many samples.\n",
    "\n",
    "The most important output file from ARIBA is the report called `report.tsv`. For this tutorial, we have all 1517 reports in the directory `data/ARIBA_reports/`."
   ]
  },
  {
   "cell_type": "code",
   "execution_count": 4,
   "metadata": {
    "collapsed": false
   },
   "outputs": [
    {
     "name": "stdout",
     "output_type": "stream",
     "text": [
      "1517\n"
     ]
    }
   ],
   "source": [
    "ls data/ARIBA_reports | wc -l"
   ]
  },
  {
   "cell_type": "markdown",
   "metadata": {},
   "source": [
    "See the [previous section](run_ariba.ipynb) for how to generate a report file for each sample.\n",
    "\n",
    "ARIBA has a functon called \"[summary](https://github.com/sanger-pathogens/ariba/wiki/Task:-summary)\" that can summarise presence/absence of sequences and/or SNPs across samples. It takes at least two ariba reports as input, and makes a CSV file that can be opened in your favourite spreadsheet program, and also makes input files for Phandango. The two Phandango files (a tree and a CSV file) can be dropped straight into the Phandango page for viewing.\n",
    "\n",
    "The tree that ARIBA makes is based on the CSV file, which contains results of presence/absence of sequence and SNPs, and other information such as percent identity bewteen contigs and reference sequences. This means that it does not necessarily represent the real phylogeny of the samples. It is more accurate to provide a tree built from the sequencing data. For this reason, we will use a pre-computed tree file `tree_for_phandango.tre`.\n",
    "\n",
    "## Basic usage of ariba summary\n",
    "\n",
    "First, let's run `ariba summary` using the default settings, except we will skip making the tree:"
   ]
  },
  {
   "cell_type": "code",
   "execution_count": 3,
   "metadata": {
    "collapsed": false
   },
   "outputs": [],
   "source": [
    "ariba summary --no_tree out data/ARIBA_reports/*.tsv"
   ]
  },
  {
   "cell_type": "markdown",
   "metadata": {},
   "source": [
    "We can see that this made two files:"
   ]
  },
  {
   "cell_type": "code",
   "execution_count": 4,
   "metadata": {
    "collapsed": false
   },
   "outputs": [
    {
     "name": "stdout",
     "output_type": "stream",
     "text": [
      "out.csv  out.phandango.csv\n"
     ]
    }
   ],
   "source": [
    "ls out.*"
   ]
  },
  {
   "cell_type": "markdown",
   "metadata": {},
   "source": [
    "They are the same except for the first line, which has Phandango-specific information. ARIBA uses the filenames as sample names in the output: "
   ]
  },
  {
   "cell_type": "code",
   "execution_count": 5,
   "metadata": {
    "collapsed": false
   },
   "outputs": [
    {
     "name": "stdout",
     "output_type": "stream",
     "text": [
      "name,16S.match,16S.match:colour,23S.match,23S.match:colour,blaTEM.match,blaTEM.match:colour,folP.match,folP.match:colour,gyrA.match,gyrA.match:colour,mtrR.match,mtrR.match:colour,mtrR_promoter.match,mtrR_promoter.match:colour,parC.match,parC.match:colour,parE.match,parE.match:colour,penA.match,penA.match:colour,ponA.match,ponA.match:colour,porA.match,porA.match:colour,porB1a.match,porB1a.match:colour,porB1b.match,porB1b.match:colour,rpoB.match,rpoB.match:colour,rpsJ.match,rpsJ.match:colour,tetM.match,tetM.match:colour\n",
      "data/ARIBA_reports/ERR1067709.tsv,no,#fb9a99,no,#fb9a99,no,#fb9a99,yes,#33a02c,no,#fb9a99,no,#fb9a99,yes,#33a02c,no,#fb9a99,no,#fb9a99,no,#fb9a99,no,#fb9a99,no,#fb9a99,no,#fb9a99,yes,#33a02c,yes,#33a02c,yes,#33a02c,no,#fb9a99\n"
     ]
    }
   ],
   "source": [
    "head -n 2 out.phandango.csv"
   ]
  },
  {
   "cell_type": "markdown",
   "metadata": {},
   "source": [
    "The first name is \"data/ARIBA_reports/ERR1067709.tsv\", and the rest are named similarly. This is not ideal, as it will look ugly in Phandango. Further, the names must exactly match the names in the tree file for Phandango to work (have a look in the tree file `tree_for_phandango.tre`). You could do a little hacking here using the Unix command `sed` on the CSV file. Instead, we can supply ARIBA with a file of filenames that also tells ariba what to call the samples in its output CSV files. Instead of \"data/ARIBA_reports/ERR1067709.tsv\", we would like to simply use \"ERR1067709\", which is cleaner and matches the tree file. It also means we can (and will) repeatedly run `ariba summary` with different options, and get output files that can be loaded straight into Phandango. This is one way to make the file with the naming information:"
   ]
  },
  {
   "cell_type": "code",
   "execution_count": 6,
   "metadata": {
    "collapsed": true
   },
   "outputs": [],
   "source": [
    "ls data/ARIBA_reports/* | awk -F/ '{print $0,$NF}' | sed 's/.tsv$//' > filenames.fofn"
   ]
  },
  {
   "cell_type": "markdown",
   "metadata": {},
   "source": [
    "The file is quite simple. Column 1 is the filename, and column 2 is the name we would like to use in the output."
   ]
  },
  {
   "cell_type": "code",
   "execution_count": 7,
   "metadata": {
    "collapsed": false
   },
   "outputs": [
    {
     "name": "stdout",
     "output_type": "stream",
     "text": [
      "data/ARIBA_reports/ERR1067709.tsv ERR1067709\n",
      "data/ARIBA_reports/ERR1067710.tsv ERR1067710\n",
      "data/ARIBA_reports/ERR1067711.tsv ERR1067711\n",
      "data/ARIBA_reports/ERR1067712.tsv ERR1067712\n",
      "data/ARIBA_reports/ERR1067713.tsv ERR1067713\n",
      "data/ARIBA_reports/ERR1067714.tsv ERR1067714\n",
      "data/ARIBA_reports/ERR1067715.tsv ERR1067715\n",
      "data/ARIBA_reports/ERR1067716.tsv ERR1067716\n",
      "data/ARIBA_reports/ERR1067717.tsv ERR1067717\n",
      "data/ARIBA_reports/ERR1067718.tsv ERR1067718\n"
     ]
    }
   ],
   "source": [
    "head filenames.fofn"
   ]
  },
  {
   "cell_type": "markdown",
   "metadata": {},
   "source": [
    "Now we can rerun summary using this input file. Note the use of the new option `--fofn`."
   ]
  },
  {
   "cell_type": "code",
   "execution_count": 8,
   "metadata": {
    "collapsed": true
   },
   "outputs": [],
   "source": [
    "ariba summary --no_tree --fofn filenames.fofn out data/ARIBA_reports/*.tsv"
   ]
  },
  {
   "cell_type": "markdown",
   "metadata": {},
   "source": [
    "Check that the renaming worked:"
   ]
  },
  {
   "cell_type": "code",
   "execution_count": 9,
   "metadata": {
    "collapsed": false,
    "scrolled": true
   },
   "outputs": [
    {
     "name": "stdout",
     "output_type": "stream",
     "text": [
      "name,16S.match,16S.match:colour,23S.match,23S.match:colour,blaTEM.match,blaTEM.match:colour,folP.match,folP.match:colour,gyrA.match,gyrA.match:colour,mtrR.match,mtrR.match:colour,mtrR_promoter.match,mtrR_promoter.match:colour,parC.match,parC.match:colour,parE.match,parE.match:colour,penA.match,penA.match:colour,ponA.match,ponA.match:colour,porA.match,porA.match:colour,porB1a.match,porB1a.match:colour,porB1b.match,porB1b.match:colour,rpoB.match,rpoB.match:colour,rpsJ.match,rpsJ.match:colour,tetM.match,tetM.match:colour\n",
      "ERR1067709,no,#fb9a99,no,#fb9a99,no,#fb9a99,yes,#33a02c,no,#fb9a99,no,#fb9a99,yes,#33a02c,no,#fb9a99,no,#fb9a99,no,#fb9a99,no,#fb9a99,no,#fb9a99,no,#fb9a99,yes,#33a02c,yes,#33a02c,yes,#33a02c,no,#fb9a99\n"
     ]
    }
   ],
   "source": [
    "head -n 2 out.phandango.csv"
   ]
  },
  {
   "cell_type": "markdown",
   "metadata": {},
   "source": [
    "Now go to [Phandango](http://phandango.net/) and drag and drop the files `out.phandango.csv` and `tree_for_phandango.tre` into the window. The result should like this:\n",
    "\n",
    "![title](Screenshots/screenshot.phandango.default.png)"
   ]
  }
 ],
 "metadata": {
  "kernelspec": {
   "display_name": "Bash",
   "language": "bash",
   "name": "bash"
  },
  "language_info": {
   "codemirror_mode": "shell",
   "file_extension": ".sh",
   "mimetype": "text/x-sh",
   "name": "bash"
  }
 },
 "nbformat": 4,
 "nbformat_minor": 2
}
