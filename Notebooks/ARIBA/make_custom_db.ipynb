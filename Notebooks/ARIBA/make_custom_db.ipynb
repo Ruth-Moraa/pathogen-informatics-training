{
 "cells": [
  {
   "cell_type": "markdown",
   "metadata": {},
   "source": [
    "# Make custom ARIBA database\n",
    "\n",
    "For the *N. gonorrhoeae* data of the manuscript, we were interested in particular sequences and SNPs. This means using custom reference data as opposed to one of the public reference sets, the use of which is described [in the ARIBA wiki page](https://github.com/sanger-pathogens/ariba/wiki/Task:-getref).\n",
    "\n",
    "The starting point is a multiple alignment of reference sequences.\n",
    "\n",
    "To do ..."
   ]
  }
 ],
 "metadata": {
  "kernelspec": {
   "display_name": "Bash",
   "language": "bash",
   "name": "bash"
  },
  "language_info": {
   "codemirror_mode": "shell",
   "file_extension": ".sh",
   "mimetype": "text/x-sh",
   "name": "bash"
  }
 },
 "nbformat": 4,
 "nbformat_minor": 2
}
