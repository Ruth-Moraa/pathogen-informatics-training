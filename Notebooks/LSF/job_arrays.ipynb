{
 "cells": [
  {
   "cell_type": "markdown",
   "metadata": {},
   "source": [
    "# Job arrays and dependencies"
   ]
  },
  {
   "cell_type": "markdown",
   "metadata": {},
   "source": [
    "In this section, we're going to take a look at how to submit a script instead of a command. We'll then use a script to help us submit a large number of identical task as a single job with a single JOBID. Finally, we'll take a look at how to submit a job that is dependent on another job.  "
   ]
  },
  {
   "cell_type": "markdown",
   "metadata": {},
   "source": [
    "***"
   ]
  },
  {
   "cell_type": "markdown",
   "metadata": {},
   "source": [
    "## Writing and submitting scripts"
   ]
  },
  {
   "cell_type": "markdown",
   "metadata": {},
   "source": [
    "Earlier on, we were submitting a single command as a job."
   ]
  },
  {
   "cell_type": "code",
   "execution_count": null,
   "metadata": {
    "collapsed": true
   },
   "outputs": [],
   "source": [
    "bsub \"sleep 60\""
   ]
  },
  {
   "cell_type": "markdown",
   "metadata": {},
   "source": [
    "But, what if want wanted to submit several commands in a single job? For this, we can use a shell script. We can write a series of commands in a file (our script) which will read in a DNA sequence and substitutes the letters/bases to return the complimentary sequence (A -> T, T -> A, C -> G and G -> C). \n",
    "\n",
    "Here, we've written the into a file called `myscript.sh`.  We can use `cat` to print the contents of our script `myscript.sh` to the terminal."
   ]
  },
  {
   "cell_type": "code",
   "execution_count": 7,
   "metadata": {
    "collapsed": false
   },
   "outputs": [
    {
     "name": "stdout",
     "output_type": "stream",
     "text": [
      "#!/bin/bash\r\n",
      "\r\n",
      "input=$(<data/sequence.txt)\r\n",
      "echo \"Input sequence: $input\"\r\n",
      "\r\n",
      "output=$(echo $input | tr 'ATGC' 'TACG')\r\n",
      "echo \"Complementary sequence: $output\"\r\n"
     ]
    }
   ],
   "source": [
    "cat myscript.sh"
   ]
  },
  {
   "cell_type": "markdown",
   "metadata": {
    "collapsed": true
   },
   "source": [
    "Notice that at the top we've added the line \"#!/bin/bash\" which tells the system the script should always be run with bash, rather than another shell.\n",
    "\n",
    "There's one thing that we need to do before submitting our script. Before we can submit our script, we need to make sure the system recognises our file as a script. We can do this using `chmod` to make our script executable."
   ]
  },
  {
   "cell_type": "code",
   "execution_count": null,
   "metadata": {
    "collapsed": false
   },
   "outputs": [],
   "source": [
    "chmod u+x myscript.sh"
   ]
  },
  {
   "cell_type": "markdown",
   "metadata": {},
   "source": [
    "To test whether this works we can run the following command. If it's successful, you should see the numbers from 1 to 10 returned by the script."
   ]
  },
  {
   "cell_type": "code",
   "execution_count": 8,
   "metadata": {
    "collapsed": false
   },
   "outputs": [
    {
     "name": "stdout",
     "output_type": "stream",
     "text": [
      "Input sequence: AAAGGTTC\r\n",
      "Complementary sequence: TTTCCAAG\r\n"
     ]
    }
   ],
   "source": [
    "./myscript.sh"
   ]
  },
  {
   "cell_type": "markdown",
   "metadata": {},
   "source": [
    "To submit this script as a job, we use `bsub`."
   ]
  },
  {
   "cell_type": "code",
   "execution_count": null,
   "metadata": {
    "collapsed": true
   },
   "outputs": [],
   "source": [
    "bsub -o myscript.o -e myscript.e \"./myscript.sh\""
   ]
  },
  {
   "cell_type": "markdown",
   "metadata": {},
   "source": [
    "You can check the status of your job using `bjobs`. Once the job has finished, take a look at the output file which was generated. At the top you should see the numbers from 1 to 10 which means that your script executed as we'd expect."
   ]
  },
  {
   "cell_type": "code",
   "execution_count": null,
   "metadata": {
    "collapsed": true
   },
   "outputs": [],
   "source": [
    "cat myscript.o"
   ]
  },
  {
   "cell_type": "markdown",
   "metadata": {},
   "source": [
    "    Input sequence: AAAGGTTC\n",
    "    Complementary sequence: TTTCCAAG\n",
    "\n",
    "    ------------------------------------------------------------\n",
    "    Sender: LSF System <lsfadmin@pcs5e>\n",
    "    Subject: Job 4019973: <./myscript.sh> in cluster <pcs5> Done\n",
    "\n",
    "    ..."
   ]
  },
  {
   "cell_type": "markdown",
   "metadata": {},
   "source": [
    "***"
   ]
  },
  {
   "cell_type": "markdown",
   "metadata": {},
   "source": [
    "## Submitting an array of jobs"
   ]
  },
  {
   "cell_type": "markdown",
   "metadata": {
    "collapsed": true
   },
   "source": [
    "Sometimes, you may want to run the same commands across lots of files. This is common in pipelines where your jobs will be identical except for the input data they are working on.\n",
    "\n",
    "For example, let's say we want to find complementary sequences from in 5 different sequence files. We've named these sequence files so that a number from 1 to 5 is the suffix(sequence.txt.[1-5])."
   ]
  },
  {
   "cell_type": "code",
   "execution_count": 12,
   "metadata": {
    "collapsed": false
   },
   "outputs": [
    {
     "name": "stdout",
     "output_type": "stream",
     "text": [
      "data/sequence.txt\tdata/sequence.txt.2\tdata/sequence.txt.4\r\n",
      "data/sequence.txt.1\tdata/sequence.txt.3\tdata/sequence.txt.5\r\n"
     ]
    }
   ],
   "source": [
    "ls data/*"
   ]
  },
  {
   "cell_type": "markdown",
   "metadata": {},
   "source": [
    "We've given an updated script which uses an environment variable, **$LSB_JOBINDEX**, to tell the script which file to use as input. You can take a look at contents of the script using `cat`."
   ]
  },
  {
   "cell_type": "code",
   "execution_count": null,
   "metadata": {
    "collapsed": true
   },
   "outputs": [],
   "source": [
    "cat myarrayscript.sh"
   ]
  },
  {
   "cell_type": "markdown",
   "metadata": {},
   "source": [
    "Don't forget to update the permissions on the script so that we can use it."
   ]
  },
  {
   "cell_type": "code",
   "execution_count": null,
   "metadata": {
    "collapsed": true
   },
   "outputs": [],
   "source": [
    "chmod u+x myarrayscript.sh"
   ]
  },
  {
   "cell_type": "markdown",
   "metadata": {},
   "source": [
    "The submission command below uses two special variables, **%J** and **%I**, in the output file names which represent the JOBID and the JOBINDEX. The JOBID will be the same for all of the jobs in this array and the JOBINDEX, which identifies which job was run from the array, will correspond to the number at the end of our filenames."
   ]
  },
  {
   "cell_type": "code",
   "execution_count": null,
   "metadata": {
    "collapsed": true
   },
   "outputs": [],
   "source": [
    "bsub -J\"sequence[1-5]\" -o sequence.out.%J-%I ./myarrayscript.sh "
   ]
  },
  {
   "cell_type": "markdown",
   "metadata": {},
   "source": [
    "When you check on the progress using `bjobs` you will see five jobs running. Here is an example output from `bjobs`."
   ]
  },
  {
   "cell_type": "markdown",
   "metadata": {},
   "source": [
    "    JOBID   USER    STAT  QUEUE      FROM_HOST   EXEC_HOST   JOB_NAME   SUBMIT_TIME\n",
    "    4019986 userA   RUN   normal     pcs5a       pcs5e       *quence[1] Jan 15 13:46\n",
    "    4019986 userA   RUN   normal     pcs5a       pcs5e       *quence[2] Jan 15 13:46\n",
    "    4019986 userA   RUN   normal     pcs5a       pcs5e       *quence[3] Jan 15 13:46\n",
    "    4019986 userA   RUN   normal     pcs5a       pcs5e       *quence[4] Jan 15 13:46\n",
    "    4019986 userA   RUN   normal     pcs5a       pcs5e       *quence[5] Jan 15 13:46"
   ]
  },
  {
   "cell_type": "markdown",
   "metadata": {},
   "source": [
    "Notice here that there are five jobs, one for each of our input files, and that the JOBID is the same for all of the jobs (4019986). If we look at the JOB_NAME, LSF has added the JOBINDEX to the end of each of the job names (e.g. [1]).\n",
    "\n",
    "Once your jobs have finished you can look for the output files using `ls`."
   ]
  },
  {
   "cell_type": "code",
   "execution_count": null,
   "metadata": {
    "collapsed": true
   },
   "outputs": [],
   "source": [
    "ls sequence.out*"
   ]
  },
  {
   "cell_type": "markdown",
   "metadata": {},
   "source": [
    "You should see five files. Each of the filenames will begin with _sequence.out_. This is followed by the JOBID (e.g. 4019986), a hyphen and then the JOBINDEX. Remember, the JOBINDEX will be a number from 1 to 5 which corresponds to the number at the end of each of the input files. So, s_equence.out.4019986-1_ will correspond with _sequence.txt.1_.\n",
    "\n",
    "Let's take a look at the first three lines of each of the output files using `head`."
   ]
  },
  {
   "cell_type": "code",
   "execution_count": null,
   "metadata": {
    "collapsed": true
   },
   "outputs": [],
   "source": [
    "head -3 sequence.out.*"
   ]
  },
  {
   "cell_type": "markdown",
   "metadata": {},
   "source": [
    "    ==> sequence.out.4019986-1 <==\n",
    "    Reading data/sequence.txt.1\n",
    "    Input sequence: AGGCTA\n",
    "    Complementary sequence: TCCGAT\n",
    "\n",
    "    ==> sequence.out.4019986-2 <==\n",
    "    Reading data/sequence.txt.2\n",
    "    Input sequence: TTGGCA\n",
    "    Complementary sequence: AACCGT\n",
    "\n",
    "    ==> sequence.out.4019986-3 <==\n",
    "    Reading data/sequence.txt.3\n",
    "    Input sequence: CGCAAT\n",
    "    Complementary sequence: GCGTTA\n",
    "\n",
    "    ==> sequence.out.4019986-4 <==\n",
    "    Reading data/sequence.txt.4\n",
    "    Input sequence: TTGCAA\n",
    "    Complementary sequence: AACGTT\n",
    "\n",
    "    ==> sequence.out.4019986-5 <==\n",
    "    Reading data/sequence.txt.5\n",
    "    Input sequence: GGCCAA\n",
    "    Complementary sequence: CCGGTT"
   ]
  },
  {
   "cell_type": "markdown",
   "metadata": {},
   "source": [
    "We can see that the same script (_myarrayscript.sh_) has been run on all five of our sequence files and we now have our complimentary sequences."
   ]
  },
  {
   "cell_type": "markdown",
   "metadata": {},
   "source": [
    "***"
   ]
  },
  {
   "cell_type": "markdown",
   "metadata": {},
   "source": [
    "## Job dependencies"
   ]
  },
  {
   "cell_type": "markdown",
   "metadata": {
    "collapsed": true
   },
   "source": [
    "Sometimes, we may have a job which uses the output from another job i.e. job B must only start after job A has finished successfully. In the example below, we submit jobA using `bsub`. "
   ]
  },
  {
   "cell_type": "code",
   "execution_count": null,
   "metadata": {
    "collapsed": true
   },
   "outputs": [],
   "source": [
    "bsub -J jobA -o jobA.o -e jobA.e \"sleep 180\""
   ]
  },
  {
   "cell_type": "markdown",
   "metadata": {},
   "source": [
    "We can check on jobA using `bjobs`."
   ]
  },
  {
   "cell_type": "markdown",
   "metadata": {},
   "source": [
    "    JOBID   USER    STAT  QUEUE      FROM_HOST   EXEC_HOST   JOB_NAME   SUBMIT_TIME\n",
    "    4020418 UserA   RUN   normal     pcs5a       pcs5e       jobA       Jan 15 15:44"
   ]
  },
  {
   "cell_type": "markdown",
   "metadata": {},
   "source": [
    "In this example, jobA has the JOBID 4020418 and has started running. Now, let's create jobB which requires jobA to have finished before jobB is allowed to start running. To do this, we use the `-w` option with `bsub`. To say that we want jobB to start running only once jobA has finished, we use `-w 'ended(jobA)'`. Don't forget to put you dependency requirement inside quotes."
   ]
  },
  {
   "cell_type": "code",
   "execution_count": null,
   "metadata": {
    "collapsed": true
   },
   "outputs": [],
   "source": [
    "bsub -w 'ended(jobA) ' -J jobB -o jobB.o -e jobB.e \"sleep 60\""
   ]
  },
  {
   "cell_type": "markdown",
   "metadata": {},
   "source": [
    "    JOBID   USER    STAT  QUEUE      FROM_HOST   EXEC_HOST   JOB_NAME   SUBMIT_TIME\n",
    "    4020418 UserA   RUN   normal     pcs5a       pcs5e       jobA       Jan 18 15:44\n",
    "    4020421 UserA   PEND  normal     pcs5a                   jobB       Jan 15 15:45"
   ]
  },
  {
   "cell_type": "markdown",
   "metadata": {},
   "source": [
    "Now, we can see that jobB is waiting (PEND), but how do we know it is waiting for jobA to finish? Well, let's take a look at the longer output with `bjobs -l`."
   ]
  },
  {
   "cell_type": "markdown",
   "metadata": {},
   "source": [
    "    bjobs -l 4020421"
   ]
  },
  {
   "cell_type": "markdown",
   "metadata": {},
   "source": [
    "In the output, we can see the section _PENDING REASONS_ which tells us that the job dependency isn't satisfied (i.e. jobA hasn't finished yet)."
   ]
  },
  {
   "cell_type": "markdown",
   "metadata": {},
   "source": [
    "    ...\n",
    "    \n",
    "     PENDING REASONS:\n",
    "     Job dependency condition not satisfied;\n",
    "     \n",
    "    ..."
   ]
  },
  {
   "cell_type": "markdown",
   "metadata": {},
   "source": [
    "We can take a closer look at the dependency conditions using `bjdepinfo -l`."
   ]
  },
  {
   "cell_type": "markdown",
   "metadata": {},
   "source": [
    "    bjdepinfo -l 4020421"
   ]
  },
  {
   "cell_type": "markdown",
   "metadata": {},
   "source": [
    "This tells us that jobB (4020421) depends on jobA (4020418) being finished (ended). It shows the relationship between the two jobs, i.e jobA is the parent job and jobB is the child job."
   ]
  },
  {
   "cell_type": "markdown",
   "metadata": {},
   "source": [
    "    The dependency condition of job <4020421> is not satisfied: ended(jobA)\n",
    "    JOBID          PARENT         PARENT_STATUS  PARENT_NAME  LEVEL\n",
    "    4020421        4020418        RUN            jobA         1"
   ]
  },
  {
   "cell_type": "markdown",
   "metadata": {},
   "source": [
    "***"
   ]
  },
  {
   "cell_type": "markdown",
   "metadata": {
    "collapsed": true
   },
   "source": [
    "## What's next?\n",
    "\n",
    "For an overview of managing jobs, you can go back to the [managing jobs](managing_jobs.ipynb). Otherwise, let's take a look at [priority_and_fairshare](priority_and_fairshare.ipynb)."
   ]
  }
 ],
 "metadata": {
  "anaconda-cloud": {},
  "kernelspec": {
   "display_name": "Bash",
   "language": "bash",
   "name": "bash"
  },
  "language_info": {
   "codemirror_mode": "shell",
   "file_extension": ".sh",
   "mimetype": "text/x-sh",
   "name": "bash"
  }
 },
 "nbformat": 4,
 "nbformat_minor": 2
}
